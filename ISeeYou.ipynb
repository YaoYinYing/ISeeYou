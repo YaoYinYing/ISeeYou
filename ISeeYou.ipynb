{
  "nbformat": 4,
  "nbformat_minor": 0,
  "metadata": {
    "colab": {
      "name": "ISeeYou.ipynb",
      "provenance": [],
      "include_colab_link": true
    },
    "kernelspec": {
      "name": "python3",
      "display_name": "Python 3"
    }
  },
  "cells": [
    {
      "cell_type": "markdown",
      "metadata": {
        "id": "view-in-github",
        "colab_type": "text"
      },
      "source": [
        "<a href=\"https://colab.research.google.com/github/YaoYinYing/ISeeYou/blob/main/ISeeYou.ipynb\" target=\"_parent\"><img src=\"https://colab.research.google.com/assets/colab-badge.svg\" alt=\"Open In Colab\"/></a>"
      ]
    },
    {
      "cell_type": "code",
      "source": [
        "#@title Input the keyworks you wish to search against. Space-seperated.\n",
        "input_keywords = \"\" #@param {type:\"string\"}\n"
      ],
      "metadata": {
        "cellView": "form",
        "id": "HMMiDeUdAPYT"
      },
      "execution_count": 5,
      "outputs": []
    },
    {
      "cell_type": "code",
      "metadata": {
        "id": "8v6PEfyXb0Gx",
        "cellView": "form"
      },
      "source": [
        "#@title Install required packages\n",
        "print(\"Cloning maigret\")\n",
        "!git clone -q https://github.com/soxoj/maigret\n",
        "print(\"Cloning sherlock\")\n",
        "!git clone -q https://github.com/sherlock-project/sherlock\n",
        "print(\"Cloning social-analyzer\")\n",
        "!pip3 -q install social-analyzer\n",
        "\n",
        "!pip3 install -q -r /content/maigret/requirements.txt\n",
        "!pip3 install -q -r /content/sherlock/requirements.txt\n",
        "\n",
        "import time,os\n",
        "try:\n",
        "  from google.colab import files\n",
        "  IN_COLAB=True\n",
        "except:\n",
        "  IN_COLAB=False"
      ],
      "execution_count": null,
      "outputs": []
    },
    {
      "cell_type": "code",
      "source": [
        "#@title Run a Searching \n",
        "!python3 /content/maigret/maigret.py --pdf --csv --xmind --all-sites --folderoutput reports/maigret $input_keywords\n",
        "!python3 /content/sherlock/sherlock/sherlock.py --folderoutput reports/sherlock --xlsx --csv $input_keywords\n",
        "\n",
        "for item in input_keywords.split(' '):\n",
        "  print(f'searching for {item}')\n",
        "  !python3 -m social-analyzer --username $item  --logs_dir reports/social-analyzer/$item/logs --output pretty \n"
      ],
      "metadata": {
        "cellView": "form",
        "id": "4L92Evzy-k9R"
      },
      "execution_count": null,
      "outputs": []
    },
    {
      "cell_type": "code",
      "source": [
        "#@title Zip all results and download it.\n",
        "zipped=f'ISeeYou_{time.strftime(\"%Y%m%d_%H%M%S\", time.localtime())}.zip'\n",
        "os.system(f\"zip -FSr {zipped} reports\")\n",
        "\n",
        "if IN_COLAB:\n",
        "  files.download(f'{zipped}')"
      ],
      "metadata": {
        "cellView": "form",
        "id": "KnXQw3x9EolD"
      },
      "execution_count": null,
      "outputs": []
    }
  ]
}